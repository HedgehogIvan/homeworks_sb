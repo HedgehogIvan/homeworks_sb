{
 "cells": [
  {
   "cell_type": "code",
   "execution_count": 1,
   "id": "4ed347fe-c5db-4539-9903-8c97517ce8b8",
   "metadata": {},
   "outputs": [],
   "source": [
    "import pandas as pd"
   ]
  },
  {
   "cell_type": "code",
   "execution_count": 2,
   "id": "5713399b-4530-4501-85de-3232799c9945",
   "metadata": {},
   "outputs": [],
   "source": [
    "employees = [['donald', 'tom'],\n",
    "             ['olaf', 'nick'],\n",
    "             ['jacob', 'juli'],\n",
    "             ['donald', 'axel'],\n",
    "             ['olaf', 'henry'],\n",
    "             ['jacob', 'tomas'],\n",
    "             ['donald', 'fiona'],\n",
    "             ['olaf', 'ben'],\n",
    "             ['jacob', 'shen'],\n",
    "             ['doanld', 'lora']]\n",
    "\n",
    "employees = pd.DataFrame(employees, columns=['head', 'employee'])\n",
    "\n",
    "salaries = [['tom', 2342, '2023-01-14'],\n",
    "          ['tom', 2345, '2023-03-17'],\n",
    "\n",
    "          ['nick', 5424, '2022-04-01'],\n",
    "          ['nick', 5500, '2023-02-30'],\n",
    "\n",
    "          ['juli', 4566, '2021-04-03'],\n",
    "          ['juli', 6000, '2024-01-12'],\n",
    "\n",
    "          ['axel', 12444, '2022-05-17'],\n",
    "          ['axel', 14000, '2023-11-12'],\n",
    "\n",
    "          ['henry', 1244, '2021-03-19'],\n",
    "          ['henry', 7000, '2023-02-09'],\n",
    "\n",
    "          ['tomas', 2345, '2024-02-02'],\n",
    "          ['tomas', 4000, '2024-02-09'],\n",
    "\n",
    "          ['fiona', 1000, '2023-07-31'],\n",
    "          ['fiona', 1200, '2024-01-29'],\n",
    "\n",
    "          ['ben', 1244, '2021-12-14'],\n",
    "          ['ben', 7001, '2023-03-27'],\n",
    "\n",
    "          ['shen', 6000, '2022-02-18'],\n",
    "          ['shen', 7001, '2024-01-28'],\n",
    "\n",
    "          ['lora', 4050, '2023-08-30'],\n",
    "          ['lora', 7400, '2024-01-19']]\n",
    "\n",
    "salaries = pd.DataFrame(salaries, columns=['employee', 'salary', 'date'])"
   ]
  },
  {
   "cell_type": "code",
   "execution_count": 3,
   "id": "a262d912-a82c-4713-b254-15c8270191fa",
   "metadata": {},
   "outputs": [
    {
     "data": {
      "text/html": [
       "<div>\n",
       "<style scoped>\n",
       "    .dataframe tbody tr th:only-of-type {\n",
       "        vertical-align: middle;\n",
       "    }\n",
       "\n",
       "    .dataframe tbody tr th {\n",
       "        vertical-align: top;\n",
       "    }\n",
       "\n",
       "    .dataframe thead th {\n",
       "        text-align: right;\n",
       "    }\n",
       "</style>\n",
       "<table border=\"1\" class=\"dataframe\">\n",
       "  <thead>\n",
       "    <tr style=\"text-align: right;\">\n",
       "      <th></th>\n",
       "      <th>employee</th>\n",
       "      <th>salary</th>\n",
       "      <th>date</th>\n",
       "    </tr>\n",
       "  </thead>\n",
       "  <tbody>\n",
       "    <tr>\n",
       "      <th>0</th>\n",
       "      <td>tom</td>\n",
       "      <td>2342</td>\n",
       "      <td>2023-01-14</td>\n",
       "    </tr>\n",
       "    <tr>\n",
       "      <th>1</th>\n",
       "      <td>tom</td>\n",
       "      <td>2345</td>\n",
       "      <td>2023-03-17</td>\n",
       "    </tr>\n",
       "    <tr>\n",
       "      <th>2</th>\n",
       "      <td>nick</td>\n",
       "      <td>5424</td>\n",
       "      <td>2022-04-01</td>\n",
       "    </tr>\n",
       "    <tr>\n",
       "      <th>3</th>\n",
       "      <td>nick</td>\n",
       "      <td>5500</td>\n",
       "      <td>2023-02-30</td>\n",
       "    </tr>\n",
       "    <tr>\n",
       "      <th>4</th>\n",
       "      <td>juli</td>\n",
       "      <td>4566</td>\n",
       "      <td>2021-04-03</td>\n",
       "    </tr>\n",
       "  </tbody>\n",
       "</table>\n",
       "</div>"
      ],
      "text/plain": [
       "  employee  salary        date\n",
       "0      tom    2342  2023-01-14\n",
       "1      tom    2345  2023-03-17\n",
       "2     nick    5424  2022-04-01\n",
       "3     nick    5500  2023-02-30\n",
       "4     juli    4566  2021-04-03"
      ]
     },
     "execution_count": 3,
     "metadata": {},
     "output_type": "execute_result"
    }
   ],
   "source": [
    "salaries.head()"
   ]
  },
  {
   "cell_type": "code",
   "execution_count": 4,
   "id": "752e7ac5-d7ef-4c8f-8946-d98bff80e8b3",
   "metadata": {},
   "outputs": [
    {
     "data": {
      "text/html": [
       "<div>\n",
       "<style scoped>\n",
       "    .dataframe tbody tr th:only-of-type {\n",
       "        vertical-align: middle;\n",
       "    }\n",
       "\n",
       "    .dataframe tbody tr th {\n",
       "        vertical-align: top;\n",
       "    }\n",
       "\n",
       "    .dataframe thead th {\n",
       "        text-align: right;\n",
       "    }\n",
       "</style>\n",
       "<table border=\"1\" class=\"dataframe\">\n",
       "  <thead>\n",
       "    <tr style=\"text-align: right;\">\n",
       "      <th></th>\n",
       "      <th>employee</th>\n",
       "      <th>salary</th>\n",
       "      <th>date</th>\n",
       "    </tr>\n",
       "  </thead>\n",
       "  <tbody>\n",
       "    <tr>\n",
       "      <th>1</th>\n",
       "      <td>tom</td>\n",
       "      <td>2345</td>\n",
       "      <td>2023-03-17</td>\n",
       "    </tr>\n",
       "    <tr>\n",
       "      <th>3</th>\n",
       "      <td>nick</td>\n",
       "      <td>5500</td>\n",
       "      <td>2023-02-30</td>\n",
       "    </tr>\n",
       "    <tr>\n",
       "      <th>5</th>\n",
       "      <td>juli</td>\n",
       "      <td>6000</td>\n",
       "      <td>2024-01-12</td>\n",
       "    </tr>\n",
       "    <tr>\n",
       "      <th>7</th>\n",
       "      <td>axel</td>\n",
       "      <td>14000</td>\n",
       "      <td>2023-11-12</td>\n",
       "    </tr>\n",
       "    <tr>\n",
       "      <th>9</th>\n",
       "      <td>henry</td>\n",
       "      <td>7000</td>\n",
       "      <td>2023-02-09</td>\n",
       "    </tr>\n",
       "    <tr>\n",
       "      <th>11</th>\n",
       "      <td>tomas</td>\n",
       "      <td>4000</td>\n",
       "      <td>2024-02-09</td>\n",
       "    </tr>\n",
       "    <tr>\n",
       "      <th>13</th>\n",
       "      <td>fiona</td>\n",
       "      <td>1200</td>\n",
       "      <td>2024-01-29</td>\n",
       "    </tr>\n",
       "    <tr>\n",
       "      <th>15</th>\n",
       "      <td>ben</td>\n",
       "      <td>7001</td>\n",
       "      <td>2023-03-27</td>\n",
       "    </tr>\n",
       "    <tr>\n",
       "      <th>17</th>\n",
       "      <td>shen</td>\n",
       "      <td>7001</td>\n",
       "      <td>2024-01-28</td>\n",
       "    </tr>\n",
       "    <tr>\n",
       "      <th>19</th>\n",
       "      <td>lora</td>\n",
       "      <td>7400</td>\n",
       "      <td>2024-01-19</td>\n",
       "    </tr>\n",
       "  </tbody>\n",
       "</table>\n",
       "</div>"
      ],
      "text/plain": [
       "   employee  salary        date\n",
       "1       tom    2345  2023-03-17\n",
       "3      nick    5500  2023-02-30\n",
       "5      juli    6000  2024-01-12\n",
       "7      axel   14000  2023-11-12\n",
       "9     henry    7000  2023-02-09\n",
       "11    tomas    4000  2024-02-09\n",
       "13    fiona    1200  2024-01-29\n",
       "15      ben    7001  2023-03-27\n",
       "17     shen    7001  2024-01-28\n",
       "19     lora    7400  2024-01-19"
      ]
     },
     "execution_count": 4,
     "metadata": {},
     "output_type": "execute_result"
    }
   ],
   "source": [
    "# В списках зарплат сотрудников на разный момент времени\n",
    "# Оставляем только самые свежие запраты у сотрудников\n",
    "last_salary = salaries.groupby(['employee'])['date'].transform('max') == salaries['date']\n",
    "ls = salaries[last_salary]\n",
    "ls"
   ]
  },
  {
   "cell_type": "code",
   "execution_count": 5,
   "id": "8408e81d-6dca-44ff-a337-3cd444e0bbb5",
   "metadata": {},
   "outputs": [
    {
     "data": {
      "text/html": [
       "<div>\n",
       "<style scoped>\n",
       "    .dataframe tbody tr th:only-of-type {\n",
       "        vertical-align: middle;\n",
       "    }\n",
       "\n",
       "    .dataframe tbody tr th {\n",
       "        vertical-align: top;\n",
       "    }\n",
       "\n",
       "    .dataframe thead th {\n",
       "        text-align: right;\n",
       "    }\n",
       "</style>\n",
       "<table border=\"1\" class=\"dataframe\">\n",
       "  <thead>\n",
       "    <tr style=\"text-align: right;\">\n",
       "      <th></th>\n",
       "      <th>employee</th>\n",
       "      <th>salary</th>\n",
       "      <th>date</th>\n",
       "    </tr>\n",
       "  </thead>\n",
       "  <tbody>\n",
       "    <tr>\n",
       "      <th>7</th>\n",
       "      <td>axel</td>\n",
       "      <td>14000</td>\n",
       "      <td>2023-11-12</td>\n",
       "    </tr>\n",
       "  </tbody>\n",
       "</table>\n",
       "</div>"
      ],
      "text/plain": [
       "  employee  salary        date\n",
       "7     axel   14000  2023-11-12"
      ]
     },
     "execution_count": 5,
     "metadata": {},
     "output_type": "execute_result"
    }
   ],
   "source": [
    "# Находим сотрудника с наибольшей зарплатой\n",
    "richest = ls[ls.salary == ls.salary.max()]\n",
    "richest"
   ]
  },
  {
   "cell_type": "code",
   "execution_count": 7,
   "id": "5ca8dc3e-1388-4a16-94a3-7ffdc032aa35",
   "metadata": {},
   "outputs": [
    {
     "data": {
      "text/plain": [
       "'donald'"
      ]
     },
     "execution_count": 7,
     "metadata": {},
     "output_type": "execute_result"
    }
   ],
   "source": [
    "# Получаем нужную запись и нужно значение\n",
    "res = employees[employees['employee'] == richest.iloc[0]['employee']]\n",
    "res['head'].iloc[0]"
   ]
  },
  {
   "cell_type": "code",
   "execution_count": null,
   "id": "34e4ac11-e398-42b0-b0bf-98a527230e7b",
   "metadata": {},
   "outputs": [],
   "source": []
  }
 ],
 "metadata": {
  "kernelspec": {
   "display_name": "Python 3 (ipykernel)",
   "language": "python",
   "name": "python3"
  },
  "language_info": {
   "codemirror_mode": {
    "name": "ipython",
    "version": 3
   },
   "file_extension": ".py",
   "mimetype": "text/x-python",
   "name": "python",
   "nbconvert_exporter": "python",
   "pygments_lexer": "ipython3",
   "version": "3.11.6"
  }
 },
 "nbformat": 4,
 "nbformat_minor": 5
}
